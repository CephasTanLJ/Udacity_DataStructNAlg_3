{
 "cells": [
  {
   "cell_type": "markdown",
   "metadata": {},
   "source": [
    "# Building a Trie in Python\n",
    "\n",
    "Before we start let us reiterate the key components of a Trie or Prefix Tree. A trie is a tree-like data structure that stores a dynamic set of strings. Tries are commonly used to facilitate operations like predictive text or autocomplete features on mobile phones or web search.\n",
    "\n",
    "Before we move into the autocomplete function we need to create a working trie for storing strings.  We will create two classes:\n",
    "* A `Trie` class that contains the root node (empty string)\n",
    "* A `TrieNode` class that exposes the general functionality of the Trie, like inserting a word or finding the node which represents a prefix.\n",
    "\n",
    "Give it a try by implementing the `TrieNode` and `Trie` classes below!"
   ]
  },
  {
   "cell_type": "code",
   "execution_count": 2,
   "metadata": {},
   "outputs": [],
   "source": [
    "class TrieNode:\n",
    "    def __init__(self, value):\n",
    "        '''\n",
    "        value       - Parent character\n",
    "        children    - A dictionary of Nodes that are children to this node instant\n",
    "        us_word     - Boolean type indicating if this Node.value is the last char of a word.\n",
    "        :param value:\n",
    "        '''\n",
    "        self.value = str(value)\n",
    "        self.children = dict()\n",
    "        self.is_word = False\n",
    "\n",
    "    def insert(self, char):\n",
    "        '''Insert Child node'''\n",
    "        if char in self.children:\n",
    "            return\n",
    "        else:\n",
    "            self.children[char] = TrieNode(char)\n",
    "\n",
    "\n",
    "    def __repr__(self):\n",
    "        '''Node(parent, child(ren))'''\n",
    "        return f'Node({self.value}, {list(self.children.keys())}, {self.is_word})'\n",
    "\n",
    "class Trie:\n",
    "    def __init__(self):\n",
    "        self.root = TrieNode('root')\n",
    "\n",
    "    def insert(self, word):\n",
    "        node_tracer = self.root\n",
    "        for char in str(word):\n",
    "            if char not in node_tracer.children:\n",
    "                node_tracer.children[char] = TrieNode(char)\n",
    "                node_tracer = node_tracer.children[char]\n",
    "            else:\n",
    "                node_tracer = node_tracer.children[char]\n",
    "\n",
    "        node_tracer.is_word = True\n",
    "\n",
    "    def find(self, prefix):\n",
    "        '''Given a prefix, return the last char node of the prefix'''\n",
    "        node_tracer = self.root\n",
    "        for char in str(prefix):\n",
    "            if char in node_tracer.children:\n",
    "                node_tracer = node_tracer.children[char]\n",
    "            else:\n",
    "                return None\n",
    "        return node_tracer"
   ]
  },
  {
   "cell_type": "markdown",
   "metadata": {},
   "source": [
    "# Finding Suffixes\n",
    "\n",
    "Now that we have a functioning Trie, we need to add the ability to list suffixes to implement our autocomplete feature.  To do that, we need to implement a new function on the `TrieNode` object that will return all complete word suffixes that exist below it in the trie.  For example, if our Trie contains the words `[\"fun\", \"function\", \"factory\"]` and we ask for suffixes from the `f` node, we would expect to receive `[\"un\", \"unction\", \"actory\"]` back from `node.suffixes()`.\n",
    "\n",
    "Using the code you wrote for the `TrieNode` above, try to add the suffixes function below. (Hint: recurse down the trie, collecting suffixes as you go.)"
   ]
  },
  {
   "cell_type": "code",
   "execution_count": 3,
   "metadata": {},
   "outputs": [],
   "source": [
    "class TrieNode:\n",
    "    def __init__(self, value):\n",
    "        '''\n",
    "        value       - Parent character\n",
    "        children    - A dictionary of Nodes that are children to this node instant\n",
    "        us_word     - Boolean type indicating if this Node.value is the last char of a word.\n",
    "        :param value:\n",
    "        '''\n",
    "        self.value = str(value)\n",
    "        self.children = dict()\n",
    "        self.is_word = False\n",
    "\n",
    "    def insert(self, char):\n",
    "        '''Insert Child node'''\n",
    "        if char in self.children:\n",
    "            return\n",
    "        else:\n",
    "            self.children[char] = TrieNode(char)\n",
    "\n",
    "\n",
    "    def suffixes(self, suffix = ''):\n",
    "        '''Return a list of suffixes given the current node as the prefix node.'''\n",
    "        suffix_set = list()\n",
    "        if self.is_word:\n",
    "            suffix_set.append(suffix)\n",
    "        for child_char, child_node in self.children.items():\n",
    "            suffix += child_char\n",
    "            suffix_set.extend(child_node.suffixes(suffix))\n",
    "        return suffix_set\n",
    "\n",
    "\n",
    "    def __repr__(self):\n",
    "        '''Node(parent, child(ren))'''\n",
    "        return f'Node({self.value}, {list(self.children.keys())}, {self.is_word})'\n"
   ]
  },
  {
   "cell_type": "markdown",
   "metadata": {},
   "source": [
    "# Testing it all out\n",
    "\n",
    "Run the following code to add some words to your trie and then use the interactive search box to see what your code returns."
   ]
  },
  {
   "cell_type": "code",
   "execution_count": 4,
   "metadata": {},
   "outputs": [],
   "source": [
    "MyTrie = Trie()\n",
    "wordList = [\n",
    "    \"ant\", \"anthology\", \"antagonist\", \"antonym\", \n",
    "    \"fun\", \"function\", \"factory\", \n",
    "    \"trie\", \"trigger\", \"trigonometry\", \"tripod\"\n",
    "]\n",
    "for word in wordList:\n",
    "    MyTrie.insert(word)"
   ]
  },
  {
   "cell_type": "code",
   "execution_count": 6,
   "metadata": {},
   "outputs": [
    {
     "name": "stdout",
     "output_type": "stream",
     "text": [
      "['', 'hology', 'hagonist', 'haonym']\n",
      "['e', 'egger', 'eggonometry', 'egpod']\n",
      "['ology']\n",
      "['ant', 'anthology', 'anthagonist', 'anthaonym', 'afun', 'afunction', 'afuactory', 'aftrie', 'aftriegger', 'aftrieggonometry', 'aftriegpod']\n"
     ]
    }
   ],
   "source": [
    "print(MyTrie.find('ant').suffixes())\n",
    "print(MyTrie.find('tri').suffixes())\n",
    "print(MyTrie.find('anth').suffixes())\n",
    "\n",
    "print(MyTrie.find('').suffixes()) "
   ]
  },
  {
   "cell_type": "code",
   "execution_count": 9,
   "metadata": {},
   "outputs": [],
   "source": []
  },
  {
   "cell_type": "code",
   "execution_count": 10,
   "metadata": {},
   "outputs": [
    {
     "data": {
      "application/vnd.jupyter.widget-view+json": {
       "model_id": "fff905208c5247a280d75f335517d541",
       "version_major": 2,
       "version_minor": 0
      },
      "text/plain": [
       "interactive(children=(Text(value='', description='prefix'), Output()), _dom_classes=('widget-interact',))"
      ]
     },
     "metadata": {},
     "output_type": "display_data"
    }
   ],
   "source": [
    "from ipywidgets import widgets\n",
    "from IPython.display import display\n",
    "from ipywidgets import interact\n",
    "def f(prefix):\n",
    "    if prefix != '':\n",
    "        prefixNode = MyTrie.find(prefix)\n",
    "        if prefixNode:\n",
    "            print('\\n'.join(prefixNode.suffixes()))\n",
    "        else:\n",
    "            print(prefix + \" not found\")\n",
    "    else:\n",
    "        print('')\n",
    "interact(f,prefix='');"
   ]
  }
 ],
 "metadata": {
  "kernelspec": {
   "display_name": "PyCharm (Udacity_DataStructNAlg_3)",
   "language": "python",
   "name": "pycharm-80b9b487"
  },
  "language_info": {
   "codemirror_mode": {
    "name": "ipython",
    "version": 3
   },
   "file_extension": ".py",
   "mimetype": "text/x-python",
   "name": "python",
   "nbconvert_exporter": "python",
   "pygments_lexer": "ipython3",
   "version": "3.9.2"
  },
  "widgets": {
   "state": {},
   "version": "1.1.2"
  }
 },
 "nbformat": 4,
 "nbformat_minor": 2
}
